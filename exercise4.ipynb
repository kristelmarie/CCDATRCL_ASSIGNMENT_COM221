{
  "cells": [
    {
      "cell_type": "markdown",
      "metadata": {
        "id": "view-in-github",
        "colab_type": "text"
      },
      "source": [
        "<a href=\"https://colab.research.google.com/github/kristelmarie/CCDATRCL_ASSIGNMENT_COM221/blob/main/exercise4.ipynb\" target=\"_parent\"><img src=\"https://colab.research.google.com/assets/colab-badge.svg\" alt=\"Open In Colab\"/></a>"
      ]
    },
    {
      "cell_type": "markdown",
      "metadata": {
        "id": "fCO3VeNzvGDc"
      },
      "source": [
        "# Exercise 4"
      ]
    },
    {
      "cell_type": "markdown",
      "metadata": {
        "id": "UCFGr2qPKONg"
      },
      "source": [
        "#### Pre-defined sorting algorithms"
      ]
    },
    {
      "cell_type": "code",
      "execution_count": 85,
      "metadata": {
        "id": "dXWXOLWtKONg"
      },
      "outputs": [],
      "source": [
        "def mergeSort(array):\n",
        "    mergeSteps = 0\n",
        "    if len(array) > 1:\n",
        "\n",
        "        #  r is the point where the array is divided into two subarrays\n",
        "        r = len(array)//2\n",
        "        L = array[:r]\n",
        "        M = array[r:]\n",
        "\n",
        "        # Sort the two halves\n",
        "        mergeSteps += mergeSort(L)\n",
        "        mergeSteps += mergeSort(M)\n",
        "\n",
        "        i = j = k = 0\n",
        "\n",
        "        # Until we reach either end of either L or M, pick larger among\n",
        "        # elements L and M and place them in the correct position at A[p..r]\n",
        "        while i < len(L) and j < len(M):\n",
        "            if L[i] < M[j]:\n",
        "                array[k] = L[i]\n",
        "                i += 1\n",
        "            else:\n",
        "                array[k] = M[j]\n",
        "                j += 1\n",
        "            k += 1\n",
        "            mergeSteps += 1\n",
        "\n",
        "\n",
        "        # When we run out of elements in either L or M,\n",
        "        # pick up the remaining elements and put in A[p..r]\n",
        "        while i < len(L):\n",
        "            array[k] = L[i]\n",
        "            i += 1\n",
        "            k += 1\n",
        "\n",
        "        while j < len(M):\n",
        "            array[k] = M[j]\n",
        "            j += 1\n",
        "            k += 1\n",
        "    return mergeSteps\n",
        "\n",
        "\n",
        "# Print the array\n",
        "def printList(array):\n",
        "    for i in range(len(array)):\n",
        "        print(array[i], end=\" \")\n",
        "    print()"
      ]
    },
    {
      "cell_type": "code",
      "execution_count": 86,
      "metadata": {
        "id": "OB-JMVxvKONi"
      },
      "outputs": [],
      "source": [
        "def countingSort(array):\n",
        "    size = len(array)\n",
        "    output = [0] * size\n",
        "    countSteps = 0\n",
        "\n",
        "    # Initialize count array\n",
        "    count = [0] * 10\n",
        "\n",
        "    # Store the count of each elements in count array\n",
        "    for i in range(0, size):\n",
        "        count[array[i]] += 1\n",
        "        countSteps += 1\n",
        "\n",
        "    # Store the cummulative count\n",
        "    for i in range(1, 10):\n",
        "        count[i] += count[i - 1]\n",
        "\n",
        "    # Find the index of each element of the original array in count array\n",
        "    # place the elements in output array\n",
        "    i = size - 1\n",
        "    while i >= 0:\n",
        "        output[count[array[i]] - 1] = array[i]\n",
        "        count[array[i]] -= 1\n",
        "        i -= 1\n",
        "\n",
        "    # Copy the sorted elements into original array\n",
        "    for i in range(0, size):\n",
        "        array[i] = output[i]\n",
        "    return countSteps"
      ]
    },
    {
      "cell_type": "code",
      "execution_count": 87,
      "metadata": {
        "id": "VXaukk4_KONj"
      },
      "outputs": [],
      "source": [
        "def insertionSort(array):\n",
        "    swaps = 0\n",
        "\n",
        "    for step in range(1, len(array)):\n",
        "        key = array[step]\n",
        "        j = step - 1\n",
        "        swaps += 1\n",
        "\n",
        "        # Compare key with each element on the left of it until an element smaller than it is found\n",
        "        # For descending order, change key<array[j] to key>array[j].\n",
        "        while j >= 0 and key < array[j]:\n",
        "            array[j + 1] = array[j]\n",
        "            j = j - 1\n",
        "            swaps += 1\n",
        "\n",
        "        # Place key at after the element just smaller than it.\n",
        "        array[j + 1] = key\n",
        "    return swaps"
      ]
    },
    {
      "cell_type": "code",
      "execution_count": 88,
      "metadata": {
        "id": "b4yWHH1nKONj"
      },
      "outputs": [],
      "source": [
        "# Bubble sort in Python\n",
        "def bubbleSort(array):\n",
        "  bubbleSwap = 0\n",
        "\n",
        "  # loop to access each array element\n",
        "  for i in range(len(array)):\n",
        "    swap = False\n",
        "\n",
        "    # loop to compare array elements\n",
        "    for j in range(0, len(array) - i - 1):\n",
        "\n",
        "      # compare two adjacent elements\n",
        "      # change > to < to sort in descending order\n",
        "      if array[j] > array[j + 1]:\n",
        "\n",
        "        # swapping elements if elements\n",
        "        # are not in the intended order\n",
        "        temp = array[j]\n",
        "        array[j] = array[j+1]\n",
        "        array[j+1] = temp\n",
        "        bubbleSwap += 1\n",
        "        swap = True\n",
        "\n",
        "    if not swap:\n",
        "      break\n",
        "  return bubbleSwap"
      ]
    },
    {
      "cell_type": "markdown",
      "metadata": {
        "id": "6j9PZVsyvGDe"
      },
      "source": [
        "#### 1. Sort your **student number** in **ascending order**\n",
        "\n",
        "Example:\n",
        "\n",
        "**Input: 2022123456**\n",
        "\n",
        "**Output: 0122223456**"
      ]
    },
    {
      "cell_type": "code",
      "execution_count": 89,
      "metadata": {
        "id": "UuNMRCm3vGDe",
        "colab": {
          "base_uri": "https://localhost:8080/"
        },
        "outputId": "395dde82-4501-475e-becc-98d665358a14"
      },
      "outputs": [
        {
          "output_type": "stream",
          "name": "stdout",
          "text": [
            "Sorted student number: \n",
            "0 0 0 1 2 2 2 3 4 9 \n"
          ]
        }
      ],
      "source": [
        "# put your answer here\n",
        "\n",
        "myList = [2, 0, 2, 2, 1, 0, 4, 0, 3, 9]\n",
        "\n",
        "mergeSort(myList)\n",
        "print(\"Sorted student number: \")\n",
        "printList(myList)"
      ]
    },
    {
      "cell_type": "markdown",
      "metadata": {
        "id": "felukBjnvGDf"
      },
      "source": [
        "#### 2. Sort the **dates** in **ascending order**.\n",
        "\n",
        "dates = [\"12-25-2023\", birthday, \"01-01-2023\"]\n",
        "\n",
        "Enter your birthday in the birthday variable."
      ]
    },
    {
      "cell_type": "code",
      "execution_count": 97,
      "metadata": {
        "id": "f8xQ3N0jvGDg",
        "colab": {
          "base_uri": "https://localhost:8080/"
        },
        "outputId": "a1abc053-8eb6-48d8-b2ec-c30cc5c48c3c"
      },
      "outputs": [
        {
          "output_type": "stream",
          "name": "stdout",
          "text": [
            "Sorted Array in Ascending Order:\n",
            "10-13-2003\n",
            "01-01-2023\n",
            "12-25-2023\n"
          ]
        }
      ],
      "source": [
        "# put your answer here\n",
        "\n",
        "def get_year(date):\n",
        "    # This function extracts the year part from the date (assuming date format is MM-DD-YYYY)\n",
        "    return int(date.split(\"-\")[2])\n",
        "\n",
        "def get_month(date):\n",
        "  # This function extracts the month part from the date (assuming date format is MM-DD-YYYY)\n",
        "    return int(date.split(\"-\")[0])\n",
        "\n",
        "def insertion_sort(dates):\n",
        "    for i in range(1, len(dates)):\n",
        "        key = dates[i]\n",
        "        j = i - 1\n",
        "        while j >= 0 and (get_year(dates[j]) > get_year(key) or (get_year(dates[j]) == get_year(key) and get_month(dates[j]) > get_month(key))):\n",
        "            dates[j + 1] = dates[j]\n",
        "            j -= 1\n",
        "        dates[j + 1] = key\n",
        "\n",
        "# Your birthday should be in mm-dd-yyyy\n",
        "birthday = \"10-13-2003\"\n",
        "\n",
        "dates = [\"12-25-2023\", birthday, \"01-01-2023\"]\n",
        "\n",
        "insertion_sort(dates)\n",
        "\n",
        "print(\"Sorted Array in Ascending Order:\")\n",
        "for date in dates:\n",
        "    print(date)"
      ]
    },
    {
      "cell_type": "markdown",
      "metadata": {
        "id": "IFDPeGZxvGDg"
      },
      "source": [
        "#### 3. Count the **total number of swaps** to sort the list below using **Bubble Sort**\n",
        "\n",
        "|3|2|5|1|4|\n",
        "|---|----|---|---|---|"
      ]
    },
    {
      "cell_type": "code",
      "execution_count": 91,
      "metadata": {
        "id": "b1ppwLcevGDg",
        "outputId": "fd334a45-65a6-457f-9de1-e641850a1db3",
        "colab": {
          "base_uri": "https://localhost:8080/"
        }
      },
      "outputs": [
        {
          "output_type": "stream",
          "name": "stdout",
          "text": [
            "[1, 2, 3, 4, 5]\n",
            "Number of swaps:  5\n"
          ]
        }
      ],
      "source": [
        "# put your answer here\n",
        "data = [3, 2, 5, 1, 4]\n",
        "totalswaps = bubbleSort(data)\n",
        "\n",
        "print(data)\n",
        "print(\"Number of swaps: \", totalswaps)"
      ]
    },
    {
      "cell_type": "markdown",
      "metadata": {
        "id": "iO2UusQWvGDi"
      },
      "source": [
        "#### 4. Count the **total number of steps** to sort the list below using **Insertion Sort**\n",
        "\n",
        "\n",
        "|6|2|5|7|4|1|8|9|3|\n",
        "|---|---|---|---|---|---|---|---|---|"
      ]
    },
    {
      "cell_type": "code",
      "execution_count": 92,
      "metadata": {
        "id": "vq1PYEjmvGDi",
        "outputId": "9d97d879-6ff1-4061-b193-13220466f188",
        "colab": {
          "base_uri": "https://localhost:8080/"
        }
      },
      "outputs": [
        {
          "output_type": "stream",
          "name": "stdout",
          "text": [
            "Sorted Array in Ascending Order:\n",
            "[1, 2, 3, 4, 5, 6, 7, 8, 9]\n",
            "\n",
            "Number of steps:  24\n"
          ]
        }
      ],
      "source": [
        "# put your answer here\n",
        "data = [6, 2, 5, 7, 4, 1, 8, 9, 3]\n",
        "\n",
        "print('Sorted Array in Ascending Order:')\n",
        "\n",
        "numberOfSteps = insertionSort(data)\n",
        "print(data)\n",
        "print(\"\\nNumber of steps: \", numberOfSteps)"
      ]
    },
    {
      "cell_type": "markdown",
      "metadata": {
        "id": "jpfNCCdbvGDj"
      },
      "source": [
        "#### 5. Given the list below:\n",
        "\n",
        "\n",
        "|7|5|4|3|2|5|1|8|\n",
        "|---|---|---|---|---|---|---|---|\n",
        "\n",
        "Using **merge sort** and **counting sort**\n",
        "\n",
        "Determine which sorting algorithm is faster by counting the total number of steps for each algorithm\n"
      ]
    },
    {
      "cell_type": "code",
      "execution_count": 93,
      "metadata": {
        "id": "2YVK17cSvGDj",
        "outputId": "eb59e5a7-1753-4130-d3de-bc02e2af0727",
        "colab": {
          "base_uri": "https://localhost:8080/"
        }
      },
      "outputs": [
        {
          "output_type": "stream",
          "name": "stdout",
          "text": [
            "Merge Sort:  [1, 2, 3, 4, 5, 5, 7, 8]\n",
            "Number of steps:  16\n",
            "\n",
            "Counting Sort:  [1, 2, 3, 4, 5, 5, 7, 8]\n",
            "Number of steps:  8\n",
            "\n",
            "Counting sort is faster!\n"
          ]
        }
      ],
      "source": [
        "# put your answer here\n",
        "mergeSortNumSteps = 0\n",
        "countingSortNumSteps = 0\n",
        "\n",
        "data = [7, 5, 4, 3, 2, 5, 1, 8]\n",
        "\n",
        "mergeSortNumSteps = mergeSort(data)\n",
        "print(\"Merge Sort: \", data)\n",
        "print(\"Number of steps: \", mergeSortNumSteps)\n",
        "\n",
        "countingSortNumSteps = countingSort(data)\n",
        "print(\"\\nCounting Sort: \", data)\n",
        "print(\"Number of steps: \", countingSortNumSteps)\n",
        "\n",
        "\n",
        "if mergeSortNumSteps < countingSortNumSteps:\n",
        "    print(\"\\nMerge sort is faster!\")\n",
        "else:\n",
        "    print(\"\\nCounting sort is faster!\")"
      ]
    }
  ],
  "metadata": {
    "colab": {
      "provenance": [],
      "include_colab_link": true
    },
    "kernelspec": {
      "display_name": "Python 3",
      "language": "python",
      "name": "python3"
    },
    "language_info": {
      "codemirror_mode": {
        "name": "ipython",
        "version": 3
      },
      "file_extension": ".py",
      "mimetype": "text/x-python",
      "name": "python",
      "nbconvert_exporter": "python",
      "pygments_lexer": "ipython3",
      "version": "3.11.4"
    },
    "orig_nbformat": 4
  },
  "nbformat": 4,
  "nbformat_minor": 0
}