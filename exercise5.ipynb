{
  "cells": [
    {
      "cell_type": "markdown",
      "metadata": {
        "id": "view-in-github",
        "colab_type": "text"
      },
      "source": [
        "<a href=\"https://colab.research.google.com/github/kristelmarie/CCDATRCL_ASSIGNMENT_COM221/blob/main/exercise5.ipynb\" target=\"_parent\"><img src=\"https://colab.research.google.com/assets/colab-badge.svg\" alt=\"Open In Colab\"/></a>"
      ]
    },
    {
      "cell_type": "markdown",
      "metadata": {
        "id": "wKx212j8E66w"
      },
      "source": [
        "# Exercise 5"
      ]
    },
    {
      "cell_type": "markdown",
      "metadata": {
        "id": "S30LyflZE660"
      },
      "source": [
        "#### 1. Create a dictionary of your 10 favorite songs."
      ]
    },
    {
      "cell_type": "markdown",
      "metadata": {
        "id": "3mRXTFmcE661"
      },
      "source": [
        "Example:\n",
        "\n",
        "|KEY|VALUE|\n",
        "|---|---|\n",
        "|001|My Love|\n",
        "|002|Like a rose|"
      ]
    },
    {
      "cell_type": "code",
      "execution_count": 2,
      "metadata": {
        "id": "a2WbtR4ZE661",
        "colab": {
          "base_uri": "https://localhost:8080/"
        },
        "outputId": "b4e1b01d-5689-49e9-f935-464f4abaf8e1"
      },
      "outputs": [
        {
          "output_type": "stream",
          "name": "stdout",
          "text": [
            "{'001': 'Limbo', '002': 'Palagi', '003': 'Kung Maging Akin Ka', '004': 'Jump Then Fall', '005': 'Timeless', '006': 'Miss Right', '007': 'Chronically Cautious', '008': 'Home', '009': 'Slow Dancing', '010': 'Rainy Days'}\n"
          ]
        }
      ],
      "source": [
        "# put your answer here\n",
        "\n",
        "mydictionary = {\n",
        "  \"001\": \"Limbo\",\n",
        "  \"002\": \"Palagi\",\n",
        "  \"003\": \"Kung Maging Akin Ka\",\n",
        "  \"004\": \"Jump Then Fall\",\n",
        "  \"005\": \"Timeless\",\n",
        "  \"006\": \"Miss Right\",\n",
        "  \"007\": \"Chronically Cautious\",\n",
        "  \"008\": \"Home\",\n",
        "  \"009\": \"Slow Dancing\",\n",
        "  \"010\": \"Rainy Days\"\n",
        "}\n",
        "\n",
        "print(mydictionary)"
      ]
    },
    {
      "cell_type": "markdown",
      "metadata": {
        "id": "UDKdo9xlE662"
      },
      "source": [
        "#### 2. Loop through the dictionary by its **key** and **value**"
      ]
    },
    {
      "cell_type": "code",
      "execution_count": 3,
      "metadata": {
        "id": "qAaVaLlvE663",
        "colab": {
          "base_uri": "https://localhost:8080/"
        },
        "outputId": "f121dcdb-de11-4157-d969-12237542c949"
      },
      "outputs": [
        {
          "output_type": "stream",
          "name": "stdout",
          "text": [
            "001\n",
            "002\n",
            "003\n",
            "004\n",
            "005\n",
            "006\n",
            "007\n",
            "008\n",
            "009\n",
            "010\n"
          ]
        }
      ],
      "source": [
        "# put your answer here\n",
        "\n",
        "for i in mydictionary:\n",
        "  print (i)"
      ]
    },
    {
      "cell_type": "markdown",
      "metadata": {
        "id": "YkWsCvR-E663"
      },
      "source": [
        "#### 3. Add one additional song"
      ]
    },
    {
      "cell_type": "code",
      "execution_count": 4,
      "metadata": {
        "id": "JpoH9E98E663",
        "colab": {
          "base_uri": "https://localhost:8080/"
        },
        "outputId": "154a4f35-e7d3-400c-fdb6-044352fde123"
      },
      "outputs": [
        {
          "output_type": "execute_result",
          "data": {
            "text/plain": [
              "{'001': 'Limbo',\n",
              " '002': 'Palagi',\n",
              " '003': 'Kung Maging Akin Ka',\n",
              " '004': 'Jump Then Fall',\n",
              " '005': 'Timeless',\n",
              " '006': 'Miss Right',\n",
              " '007': 'Chronically Cautious',\n",
              " '008': 'Home',\n",
              " '009': 'Slow Dancing',\n",
              " '010': 'Rainy Days',\n",
              " '011': 'I Wanna Be Yours'}"
            ]
          },
          "metadata": {},
          "execution_count": 4
        }
      ],
      "source": [
        "# put your answer here\n",
        "\n",
        "mydictionary[\"011\"] = \"I Wanna Be Yours\"\n",
        "mydictionary"
      ]
    },
    {
      "cell_type": "markdown",
      "metadata": {
        "id": "_WAXyLGyE664"
      },
      "source": [
        "#### 4. Remove one song"
      ]
    },
    {
      "cell_type": "code",
      "execution_count": 5,
      "metadata": {
        "id": "sQBAHgXJE664",
        "colab": {
          "base_uri": "https://localhost:8080/"
        },
        "outputId": "8d0a9178-dff2-4bbb-fbad-86495ce06613"
      },
      "outputs": [
        {
          "output_type": "execute_result",
          "data": {
            "text/plain": [
              "{'001': 'Limbo',\n",
              " '002': 'Palagi',\n",
              " '004': 'Jump Then Fall',\n",
              " '005': 'Timeless',\n",
              " '006': 'Miss Right',\n",
              " '007': 'Chronically Cautious',\n",
              " '008': 'Home',\n",
              " '009': 'Slow Dancing',\n",
              " '010': 'Rainy Days',\n",
              " '011': 'I Wanna Be Yours'}"
            ]
          },
          "metadata": {},
          "execution_count": 5
        }
      ],
      "source": [
        "# put your answer here\n",
        "\n",
        "mydictionary.pop(\"003\")\n",
        "mydictionary"
      ]
    },
    {
      "cell_type": "markdown",
      "metadata": {
        "id": "7eK-kynJE664"
      },
      "source": [
        "#### 5. Create a nested dictionary of your 10 favorite songs with 5 genres. Display all of the items of the nested dictionary\n",
        "\n",
        "- Each nested dictionary's key should be the genre of the song\n",
        "- Put each song in their respective genre"
      ]
    },
    {
      "cell_type": "markdown",
      "metadata": {
        "id": "QQMvw8mRE665"
      },
      "source": [
        "Example:\n",
        "\n",
        "\n",
        "|KEY|VALUE|\n",
        "|---|---|\n",
        "|Pop|{001, Baby}|\n",
        "|Rock|{001, Enter Sandman}|"
      ]
    },
    {
      "cell_type": "code",
      "execution_count": 11,
      "metadata": {
        "id": "KbV46Hp3E665",
        "colab": {
          "base_uri": "https://localhost:8080/"
        },
        "outputId": "4263e855-3878-432c-9436-31c1e688b724"
      },
      "outputs": [
        {
          "output_type": "execute_result",
          "data": {
            "text/plain": [
              "{'RnB': {'001': 'Limbo'},\n",
              " 'OPM': {'002': 'Palagi'},\n",
              " 'K-RnB': {'009': 'Slow Dancing', '010': 'Rainy Days'},\n",
              " 'K-Pop': {'006': 'Miss Right', '008': 'Home'},\n",
              " 'Pop': {'004': 'Jump Then Fall',\n",
              "  '005': 'Timeless',\n",
              "  '007': 'Chronically Cautious'}}"
            ]
          },
          "metadata": {},
          "execution_count": 11
        }
      ],
      "source": [
        "# put your answer here\n",
        "\n",
        "mydictionary = {\n",
        "    \"RnB\" : {\n",
        "        \"001\" : \"Limbo\"\n",
        "    },\n",
        "    \"OPM\" : {\n",
        "        \"002\" : \"Palagi\"\n",
        "    },\n",
        "    \"K-RnB\" : {\n",
        "        \"009\" : \"Slow Dancing\",\n",
        "        \"010\" : 'Rainy Days'\n",
        "    },\n",
        "    \"K-Pop\" : {\n",
        "        \"006\" : \"Miss Right\",\n",
        "        \"008\" : \"Home\"\n",
        "    },\n",
        "    \"Pop\" : {\n",
        "        \"004\" : \"Jump Then Fall\",\n",
        "        \"005\" : \"Timeless\",\n",
        "        \"007\" : \"Chronically Cautious\"\n",
        "    }\n",
        "}\n",
        "\n",
        "mydictionary"
      ]
    },
    {
      "cell_type": "markdown",
      "metadata": {
        "id": "WZ-BeqpKE665"
      },
      "source": [
        "#### 6. Print the first song of the first genre"
      ]
    },
    {
      "cell_type": "code",
      "execution_count": 7,
      "metadata": {
        "id": "zytg1rq4E665",
        "colab": {
          "base_uri": "https://localhost:8080/"
        },
        "outputId": "be183501-a525-4a61-e4d6-26aae37e32da"
      },
      "outputs": [
        {
          "output_type": "stream",
          "name": "stdout",
          "text": [
            "Limbo\n"
          ]
        }
      ],
      "source": [
        "# put your answer here\n",
        "print(mydictionary[\"RnB\"] [\"001\"])"
      ]
    },
    {
      "cell_type": "markdown",
      "metadata": {
        "id": "mC-QpvcLE665"
      },
      "source": [
        "#### 7. Print the first song of the last genre"
      ]
    },
    {
      "cell_type": "code",
      "execution_count": 8,
      "metadata": {
        "id": "ZmSxyakLE665",
        "colab": {
          "base_uri": "https://localhost:8080/"
        },
        "outputId": "256f5cb8-fb63-4f71-aee1-50b8768d8132"
      },
      "outputs": [
        {
          "output_type": "stream",
          "name": "stdout",
          "text": [
            "Jump Then Fall\n"
          ]
        }
      ],
      "source": [
        "# put your answer here\n",
        "print(mydictionary[\"Pop\"][\"004\"])"
      ]
    }
  ],
  "metadata": {
    "kernelspec": {
      "display_name": "Python 3",
      "language": "python",
      "name": "python3"
    },
    "language_info": {
      "codemirror_mode": {
        "name": "ipython",
        "version": 3
      },
      "file_extension": ".py",
      "mimetype": "text/x-python",
      "name": "python",
      "nbconvert_exporter": "python",
      "pygments_lexer": "ipython3",
      "version": "3.11.4"
    },
    "orig_nbformat": 4,
    "colab": {
      "provenance": [],
      "include_colab_link": true
    }
  },
  "nbformat": 4,
  "nbformat_minor": 0
}