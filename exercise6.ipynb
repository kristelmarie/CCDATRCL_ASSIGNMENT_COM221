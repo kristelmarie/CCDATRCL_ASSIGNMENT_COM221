{
  "cells": [
    {
      "cell_type": "markdown",
      "metadata": {
        "id": "view-in-github",
        "colab_type": "text"
      },
      "source": [
        "<a href=\"https://colab.research.google.com/github/kristelmarie/CCDATRCL_ASSIGNMENT_COM221/blob/main/exercise6.ipynb\" target=\"_parent\"><img src=\"https://colab.research.google.com/assets/colab-badge.svg\" alt=\"Open In Colab\"/></a>"
      ]
    },
    {
      "cell_type": "markdown",
      "metadata": {
        "id": "duWZ6bd0FKnJ"
      },
      "source": [
        "# Exercise 6"
      ]
    },
    {
      "cell_type": "markdown",
      "metadata": {
        "id": "Uapq2MosFKnP"
      },
      "source": [
        "#### Pre-defined code"
      ]
    },
    {
      "cell_type": "code",
      "execution_count": 19,
      "metadata": {
        "id": "UyM8QIDCFKnQ"
      },
      "outputs": [],
      "source": [
        "class Node:\n",
        "    def __init__(self, item):\n",
        "        self.left = None\n",
        "        self.right = None\n",
        "        self.val = item"
      ]
    },
    {
      "cell_type": "code",
      "execution_count": 20,
      "metadata": {
        "id": "L_r6lvGuFKnS"
      },
      "outputs": [],
      "source": [
        "def inorder(root):\n",
        "\n",
        "    if root:\n",
        "        # Traverse left\n",
        "        inorder(root.left)\n",
        "        # Traverse root\n",
        "        print(str(root.val) + \"->\", end='')\n",
        "        # Traverse right\n",
        "        inorder(root.right)\n",
        "\n",
        "def postorder(root):\n",
        "\n",
        "    if root:\n",
        "        # Traverse left\n",
        "        postorder(root.left)\n",
        "        # Traverse right\n",
        "        postorder(root.right)\n",
        "        # Traverse root\n",
        "        print(str(root.val) + \"->\", end='')\n",
        "\n",
        "def preorder(root):\n",
        "\n",
        "    if root:\n",
        "        # Traverse root\n",
        "        print(str(root.val) + \"->\", end='')\n",
        "        # Traverse left\n",
        "        preorder(root.left)\n",
        "        # Traverse right\n",
        "        preorder(root.right)"
      ]
    },
    {
      "cell_type": "markdown",
      "metadata": {
        "id": "zjPEhoOtFKnT"
      },
      "source": [
        "#### 1. Construct Create your own company org chart and put yourself as CEO.\n",
        "\n",
        "Using a Tree data structure,\n",
        "\n",
        "- Assign yourself as CEO\n",
        "\n",
        "- Assign any of your classmate as HR Director\n",
        "- Assign any of your classmate as Sales Director\n",
        "\n",
        "- Assign any of your classmate as trainee. His/her boss is the HR Director\n",
        "- Assign any of your classmate as a staff and trainee. Their boss is the Sales Director\n"
      ]
    },
    {
      "cell_type": "markdown",
      "metadata": {
        "id": "LC_8FP-rFKnT"
      },
      "source": [
        "<img src=\"https://thumbs.dreamstime.com/z/cartoon-organization-chart-some-company-93778925.jpg\"/>"
      ]
    },
    {
      "cell_type": "code",
      "execution_count": 21,
      "metadata": {
        "id": "Xgs8NVRXFKnU"
      },
      "outputs": [],
      "source": [
        "# put your answer here\n",
        "root = Node(\"CEO: Kristel\")\n",
        "root.left = Node(\"HR: Jillian\")\n",
        "root.right = Node(\"Sales: Mureigne\")\n",
        "root.left.left = Node(\"HR Trainee: Francyne\")\n",
        "root.right.left = Node(\"Sales Staff: Tatiana\")\n",
        "root.right.right = Node(\"Sales Trainee: Samantha\")"
      ]
    },
    {
      "cell_type": "markdown",
      "metadata": {
        "id": "wXcx855vFKnU"
      },
      "source": [
        "#### 2. Traverse the tree in in-order traversal"
      ]
    },
    {
      "cell_type": "code",
      "execution_count": 22,
      "metadata": {
        "id": "Kh78H9T5FKnV",
        "colab": {
          "base_uri": "https://localhost:8080/"
        },
        "outputId": "85f880ee-fdbf-4861-ffd5-7babbc18576c"
      },
      "outputs": [
        {
          "output_type": "stream",
          "name": "stdout",
          "text": [
            "Inorder traversal \n",
            "HR Trainee: Francyne->HR: Jillian->CEO: Kristel->Sales Staff: Tatiana->Sales: Mureigne->Sales Trainee: Samantha->"
          ]
        }
      ],
      "source": [
        "# put your answer here\n",
        "print(\"Inorder traversal \")\n",
        "inorder(root)"
      ]
    },
    {
      "cell_type": "markdown",
      "metadata": {
        "id": "EpkPWTchFKnV"
      },
      "source": [
        "#### 3. Traverse the tree in pre-order traversal"
      ]
    },
    {
      "cell_type": "code",
      "execution_count": 23,
      "metadata": {
        "id": "ueOPk2V-FKnW",
        "colab": {
          "base_uri": "https://localhost:8080/"
        },
        "outputId": "4d4b16af-6fdb-4c57-f8fc-5ce7237e7743"
      },
      "outputs": [
        {
          "output_type": "stream",
          "name": "stdout",
          "text": [
            "Preorder traversal\n",
            "CEO: Kristel->HR: Jillian->HR Trainee: Francyne->Sales: Mureigne->Sales Staff: Tatiana->Sales Trainee: Samantha->"
          ]
        }
      ],
      "source": [
        "# put your answer here\n",
        "print(\"Preorder traversal\")\n",
        "preorder(root)"
      ]
    },
    {
      "cell_type": "markdown",
      "metadata": {
        "id": "X0XHsxklFKnW"
      },
      "source": [
        "#### 4. Traverse the tree in post-order traversal"
      ]
    },
    {
      "cell_type": "code",
      "execution_count": 24,
      "metadata": {
        "id": "BbGTHaK8FKnW",
        "colab": {
          "base_uri": "https://localhost:8080/"
        },
        "outputId": "119855f4-347a-442b-c855-5f58b4e98778"
      },
      "outputs": [
        {
          "output_type": "stream",
          "name": "stdout",
          "text": [
            "Postorder traversal\n",
            "HR Trainee: Francyne->HR: Jillian->Sales Staff: Tatiana->Sales Trainee: Samantha->Sales: Mureigne->CEO: Kristel->"
          ]
        }
      ],
      "source": [
        "# put your answer here\n",
        "print(\"Postorder traversal\")\n",
        "postorder(root)"
      ]
    }
  ],
  "metadata": {
    "kernelspec": {
      "display_name": "Python 3",
      "language": "python",
      "name": "python3"
    },
    "language_info": {
      "codemirror_mode": {
        "name": "ipython",
        "version": 3
      },
      "file_extension": ".py",
      "mimetype": "text/x-python",
      "name": "python",
      "nbconvert_exporter": "python",
      "pygments_lexer": "ipython3",
      "version": "3.11.4"
    },
    "orig_nbformat": 4,
    "colab": {
      "provenance": [],
      "include_colab_link": true
    }
  },
  "nbformat": 4,
  "nbformat_minor": 0
}